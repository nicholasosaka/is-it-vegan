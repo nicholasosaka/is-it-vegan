{
 "cells": [
  {
   "cell_type": "code",
   "execution_count": 1,
   "id": "3d8cb351",
   "metadata": {},
   "outputs": [],
   "source": [
    "import pandas as pd\n",
    "import pickle\n",
    "import re\n",
    "import spacy\n",
    "import numpy as np"
   ]
  },
  {
   "cell_type": "code",
   "execution_count": 2,
   "id": "db074373",
   "metadata": {},
   "outputs": [
    {
     "data": {
      "text/plain": [
       "1897"
      ]
     },
     "execution_count": 2,
     "metadata": {},
     "output_type": "execute_result"
    }
   ],
   "source": [
    "with open('data/item_info.pkl', 'rb') as pickle_file:\n",
    "    item_info = pickle.load(pickle_file)\n",
    "len(item_info)"
   ]
  },
  {
   "cell_type": "code",
   "execution_count": 3,
   "id": "1dbe46c0",
   "metadata": {},
   "outputs": [],
   "source": [
    "def clean_text(s):\n",
    "    return re.sub(r'[^a-zA-Z]', ' ', s).lower().split()"
   ]
  },
  {
   "cell_type": "code",
   "execution_count": 4,
   "id": "260be934",
   "metadata": {},
   "outputs": [],
   "source": [
    "all_data = pd.DataFrame(columns=[\"ingredients\", \"is_vegan\"])\n",
    "\n",
    "for item_id in item_info:\n",
    "    all_data = all_data.append({\n",
    "        \"ingredients\": clean_text(item_info[item_id]['ingredients']),\n",
    "        \"is_vegan\": item_info[item_id][\"is_vegan\"]\n",
    "    }, ignore_index=True)"
   ]
  },
  {
   "cell_type": "code",
   "execution_count": 49,
   "id": "cb5c4715",
   "metadata": {},
   "outputs": [],
   "source": [
    "all_data['ingredients'] = all_data['ingredients'].apply(lambda l: \" \".join(l))"
   ]
  },
  {
   "cell_type": "code",
   "execution_count": 50,
   "id": "cc42da08",
   "metadata": {},
   "outputs": [],
   "source": [
    "X = all_data['ingredients']\n",
    "y = all_data['is_vegan']"
   ]
  },
  {
   "cell_type": "markdown",
   "id": "566dfc28",
   "metadata": {},
   "source": [
    "## TF-IDF Pipeline"
   ]
  },
  {
   "cell_type": "code",
   "execution_count": 51,
   "id": "c95d15b8",
   "metadata": {},
   "outputs": [],
   "source": [
    "from sklearn.feature_extraction.text import TfidfTransformer, TfidfVectorizer, CountVectorizer\n",
    "from sklearn.pipeline import Pipeline"
   ]
  },
  {
   "cell_type": "code",
   "execution_count": 134,
   "id": "c4df644f",
   "metadata": {},
   "outputs": [
    {
     "data": {
      "text/plain": [
       "Pipeline(steps=[('countvec',\n",
       "                 CountVectorizer(lowercase=False, ngram_range=(2, 5),\n",
       "                                 tokenizer=<function <lambda> at 0x7fc6b3d2e310>)),\n",
       "                ('tf-idf', TfidfTransformer())])"
      ]
     },
     "execution_count": 134,
     "metadata": {},
     "output_type": "execute_result"
    }
   ],
   "source": [
    "pipeline = Pipeline([\n",
    "    ('countvec', CountVectorizer(\n",
    "                    lowercase=False,\n",
    "                    tokenizer=lambda x:x,\n",
    "                    ngram_range=(2,5),\n",
    "                    analyzer=\"word\"\n",
    "                )\n",
    "    ),\n",
    "    ('tf-idf', TfidfTransformer(\n",
    "                    norm='l2',\n",
    "                )\n",
    "    )\n",
    "]).fit(X)\n",
    "pipeline"
   ]
  },
  {
   "cell_type": "markdown",
   "id": "6ded0519",
   "metadata": {},
   "source": [
    "## Logistic Regression\n"
   ]
  },
  {
   "cell_type": "code",
   "execution_count": 135,
   "id": "258fb380",
   "metadata": {},
   "outputs": [],
   "source": [
    "from sklearn.linear_model import LogisticRegression\n",
    "from sklearn.model_selection import train_test_split"
   ]
  },
  {
   "cell_type": "code",
   "execution_count": 136,
   "id": "613ac7f0",
   "metadata": {},
   "outputs": [],
   "source": [
    "X_train, X_test, y_train, y_test = train_test_split(X, y, test_size=0.2)"
   ]
  },
  {
   "cell_type": "code",
   "execution_count": 137,
   "id": "32fe81dd",
   "metadata": {},
   "outputs": [],
   "source": [
    "X_train_tfidf = pipeline.transform(X_train)\n",
    "X_test_tfidf = pipeline.transform(X_test)"
   ]
  },
  {
   "cell_type": "code",
   "execution_count": 138,
   "id": "844d16db",
   "metadata": {},
   "outputs": [],
   "source": [
    "y_train = y_train.astype(np.int8)\n",
    "y_test = y_test.astype(np.int8)"
   ]
  },
  {
   "cell_type": "code",
   "execution_count": 139,
   "id": "74901f5f",
   "metadata": {},
   "outputs": [
    {
     "data": {
      "text/plain": [
       "0.881578947368421"
      ]
     },
     "execution_count": 139,
     "metadata": {},
     "output_type": "execute_result"
    }
   ],
   "source": [
    "model = LogisticRegression().fit(X_train_tfidf, y_train)\n",
    "model.score(X_test_tfidf, y_test)"
   ]
  },
  {
   "cell_type": "markdown",
   "id": "403aa3b8",
   "metadata": {},
   "source": [
    "# Tuning"
   ]
  },
  {
   "cell_type": "code",
   "execution_count": 295,
   "id": "54997a42",
   "metadata": {},
   "outputs": [],
   "source": [
    "from sklearn.feature_extraction.text import TfidfTransformer, TfidfVectorizer, CountVectorizer\n",
    "from sklearn.pipeline import Pipeline\n",
    "from sklearn.linear_model import LogisticRegression\n",
    "from sklearn.model_selection import train_test_split\n",
    "\n",
    "def generate_ngram_pairs(minimum, maximum):\n",
    "    pairs = []\n",
    "    for i in range(minimum, maximum+1):\n",
    "        for j in range(minimum, maximum+1):\n",
    "            if i <= j:  \n",
    "                pairs.append((i,j))\n",
    "            \n",
    "    return pairs\n",
    "\n",
    "def tune_lr(data, params):\n",
    "    passed_params = {}\n",
    "    for p in params:\n",
    "        passed_params[p] = params[p]\n",
    "\n",
    "    defaults = {\n",
    "        \"test_size\": 0.2,\n",
    "        \"seed\": 1,\n",
    "        \"ngram_range\": (1,1),\n",
    "        \"analyzer\": \"word\",\n",
    "        \"norm\": \"l2\",\n",
    "        \"penalty\": \"l2\",\n",
    "        \"C\": 1,\n",
    "        \"class_weight\": \"balanced\", # can be None or imbalanced\n",
    "        \"solver\": \"lbfgs\",\n",
    "        \"l1_ratio\": 0.5, # only for penalty elasticnet\n",
    "    }\n",
    "    \n",
    "    for d in defaults:\n",
    "        if d not in params:\n",
    "            params[d] = defaults[d]\n",
    "            \n",
    "    \n",
    "    X = all_data['ingredients']\n",
    "    y = all_data['is_vegan']\n",
    "    X_train, X_test, y_train, y_test = train_test_split(X, y, test_size=params['test_size'], random_state=params['seed'])\n",
    "    \n",
    "    pipeline = Pipeline([\n",
    "        ('countvec', CountVectorizer(\n",
    "                        lowercase=False,\n",
    "                        tokenizer=lambda x:x,\n",
    "                        ngram_range=params['ngram_range'],\n",
    "                        analyzer=params['analyzer']\n",
    "                    )\n",
    "        ),\n",
    "        ('tf-idf', TfidfTransformer(\n",
    "                        norm=params['norm'],\n",
    "                    )\n",
    "        )\n",
    "    ]).fit(X)\n",
    "    \n",
    "    X_train_tfidf = pipeline.transform(X_train)\n",
    "    X_test_tfidf = pipeline.transform(X_test)\n",
    "    y_train = y_train.astype(np.int8)\n",
    "    y_test = y_test.astype(np.int8)        \n",
    "    \n",
    "    if params['penalty'] != 'elasticnet':\n",
    "        params['l1_ratio'] = None\n",
    "    \n",
    "    model = LogisticRegression(\n",
    "                C=params['C'],\n",
    "                penalty=params['penalty'],\n",
    "                class_weight=params['class_weight'],\n",
    "                random_state=params['seed'],\n",
    "                solver=params['solver'],\n",
    "                l1_ratio=params['l1_ratio']\n",
    "            ).fit(X_train_tfidf, y_train)\n",
    "    \n",
    "    score = model.score(X_test_tfidf, y_test)\n",
    "    print(f\"Accuracy: {score * 100:.2f}% with {passed_params}\")\n",
    "    return model, score"
   ]
  },
  {
   "cell_type": "code",
   "execution_count": 299,
   "id": "a99a4f91",
   "metadata": {},
   "outputs": [
    {
     "name": "stdout",
     "output_type": "stream",
     "text": [
      "Accuracy: 84.74% with {'ngram_range': (1, 1)}\n",
      "New best\n",
      "Accuracy: 90.00% with {'ngram_range': (1, 2)}\n",
      "New best\n",
      "Accuracy: 90.79% with {'ngram_range': (1, 3)}\n",
      "New best\n",
      "Accuracy: 90.53% with {'ngram_range': (1, 4)}\n",
      "Accuracy: 91.32% with {'ngram_range': (1, 5)}\n",
      "New best\n",
      "Accuracy: 90.53% with {'ngram_range': (1, 6)}\n",
      "Accuracy: 89.74% with {'ngram_range': (2, 2)}\n",
      "Accuracy: 91.32% with {'ngram_range': (2, 3)}\n",
      "Accuracy: 91.32% with {'ngram_range': (2, 4)}\n",
      "Accuracy: 91.58% with {'ngram_range': (2, 5)}\n",
      "New best\n",
      "Accuracy: 91.05% with {'ngram_range': (2, 6)}\n",
      "Accuracy: 91.58% with {'ngram_range': (3, 3)}\n",
      "Accuracy: 90.53% with {'ngram_range': (3, 4)}\n",
      "Accuracy: 89.47% with {'ngram_range': (3, 5)}\n",
      "Accuracy: 89.47% with {'ngram_range': (3, 6)}\n",
      "Accuracy: 89.21% with {'ngram_range': (4, 4)}\n",
      "Accuracy: 88.68% with {'ngram_range': (4, 5)}\n",
      "Accuracy: 88.42% with {'ngram_range': (4, 6)}\n",
      "Accuracy: 87.89% with {'ngram_range': (5, 5)}\n",
      "Accuracy: 88.16% with {'ngram_range': (5, 6)}\n",
      "Accuracy: 86.84% with {'ngram_range': (6, 6)}\n",
      "Best pair: (2, 5) with accuracy of 91.58%\n"
     ]
    }
   ],
   "source": [
    "n_gram_min = 1\n",
    "n_gram_max = 6\n",
    "best_acc = 0\n",
    "best_model = None\n",
    "best_pair = None\n",
    "\n",
    "for n_gram_pair in generate_ngram_pairs(n_gram_min,n_gram_max):\n",
    "    model, acc = tune_lr(all_data,\n",
    "        {\n",
    "            \"ngram_range\": n_gram_pair,\n",
    "        }\n",
    "    )\n",
    "    if acc > best_acc:\n",
    "        print(\"New best\")\n",
    "        best_acc = acc\n",
    "        best_model = model\n",
    "        best_pair = n_gram_pair\n",
    "print(f\"Best pair: {best_pair} with accuracy of {best_acc*100:.2f}%\")"
   ]
  },
  {
   "cell_type": "code",
   "execution_count": 300,
   "id": "f125c714",
   "metadata": {},
   "outputs": [],
   "source": [
    "model_name = \"tf-idf_lr_ngrams2-5\""
   ]
  },
  {
   "cell_type": "code",
   "execution_count": 303,
   "id": "b3696ec0",
   "metadata": {},
   "outputs": [],
   "source": [
    "from joblib import dump, load\n",
    "with open(f\"./models/{model_name}.joblib\", \"wb\") as f:\n",
    "    dump(best_model, f)\n",
    "with open(f\"./models/model.txt\", \"w\") as f:\n",
    "    f.write(model_name)"
   ]
  },
  {
   "cell_type": "code",
   "execution_count": null,
   "id": "44cdb3fe",
   "metadata": {},
   "outputs": [],
   "source": []
  }
 ],
 "metadata": {
  "kernelspec": {
   "display_name": "Python 3 (ipykernel)",
   "language": "python",
   "name": "python3"
  },
  "language_info": {
   "codemirror_mode": {
    "name": "ipython",
    "version": 3
   },
   "file_extension": ".py",
   "mimetype": "text/x-python",
   "name": "python",
   "nbconvert_exporter": "python",
   "pygments_lexer": "ipython3",
   "version": "3.8.12"
  }
 },
 "nbformat": 4,
 "nbformat_minor": 5
}
