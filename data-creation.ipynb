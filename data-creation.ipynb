{
 "cells": [
  {
   "cell_type": "code",
   "execution_count": 1,
   "id": "a9fb0792",
   "metadata": {},
   "outputs": [],
   "source": [
    "from bs4 import BeautifulSoup\n",
    "import pandas as pd\n",
    "import numpy as np\n",
    "import requests\n",
    "import re\n",
    "import time\n",
    "import pickle\n",
    "import os"
   ]
  },
  {
   "cell_type": "code",
   "execution_count": 2,
   "id": "3ffc0086",
   "metadata": {},
   "outputs": [],
   "source": [
    "root_url = \"https://us.openfoodfacts.org/\""
   ]
  },
  {
   "cell_type": "code",
   "execution_count": 3,
   "id": "f84fcff3",
   "metadata": {},
   "outputs": [],
   "source": [
    "# get soup of home page\n",
    "soup = BeautifulSoup(requests.get(root_url).text, 'html.parser')"
   ]
  },
  {
   "cell_type": "code",
   "execution_count": 4,
   "id": "889e4460",
   "metadata": {},
   "outputs": [
    {
     "data": {
      "text/plain": [
       "3925"
      ]
     },
     "execution_count": 4,
     "metadata": {},
     "output_type": "execute_result"
    }
   ],
   "source": [
    "max_page = np.max([int(re.search(r'\\d+', str(atag)).group()) for atag in soup.find(id=\"pages\").find_all(\"a\")])\n",
    "max_page"
   ]
  },
  {
   "cell_type": "code",
   "execution_count": 5,
   "id": "19cec0bc",
   "metadata": {},
   "outputs": [],
   "source": [
    "def is_valid_product_link(link):\n",
    "    try:\n",
    "        return \"/product/\" in link['href']\n",
    "    except KeyError:\n",
    "        return False"
   ]
  },
  {
   "cell_type": "code",
   "execution_count": 6,
   "id": "fc559990",
   "metadata": {},
   "outputs": [
    {
     "data": {
      "text/plain": [
       "['completed_urls.pkl', 'product_links.pkl']"
      ]
     },
     "execution_count": 6,
     "metadata": {},
     "output_type": "execute_result"
    }
   ],
   "source": [
    "os.listdir(\"./data\")"
   ]
  },
  {
   "cell_type": "code",
   "execution_count": 7,
   "id": "b1ea262f",
   "metadata": {},
   "outputs": [
    {
     "name": "stdout",
     "output_type": "stream",
     "text": [
      "Found previous url list.\n",
      "Found previous product link list.\n",
      "\n",
      "So far:\n",
      "15 urls scraped.\n",
      "1500 product links discovered.\n"
     ]
    }
   ],
   "source": [
    "product_links = []\n",
    "completed_urls = []\n",
    "\n",
    "if \"completed_urls.pkl\" in os.listdir(\"./data/\"):\n",
    "    print(f\"Found previous url list.\")\n",
    "    with open(\"./data/completed_urls.pkl\", \"rb\") as f:\n",
    "        completed_urls = pickle.load(f)\n",
    "        \n",
    "if \"product_links.pkl\" in os.listdir(\"./data/\"):\n",
    "    print(f\"Found previous product link list.\")\n",
    "    with open(\"./data/product_links.pkl\", \"rb\") as f:\n",
    "        product_links = pickle.load(f)\n",
    "        \n",
    "print(f\"\\nSo far:\")\n",
    "print(f\"{len(completed_urls)} urls scraped.\")\n",
    "print(f\"{len(product_links)} product links discovered.\")"
   ]
  },
  {
   "cell_type": "code",
   "execution_count": 8,
   "id": "dd7c94ff",
   "metadata": {},
   "outputs": [],
   "source": [
    "max_scrape_index = 20\n",
    "save_interval = 5"
   ]
  },
  {
   "cell_type": "code",
   "execution_count": 10,
   "id": "45498bd3",
   "metadata": {
    "scrolled": false
   },
   "outputs": [
    {
     "name": "stdout",
     "output_type": "stream",
     "text": [
      "Fetching https://us.openfoodfacts.org/18\n",
      "Scraped 100 new product links, 1800 total links. (2.9s)\n",
      "Fetching https://us.openfoodfacts.org/19\n",
      "Scraped 100 new product links, 1900 total links. (2.9s)\n",
      "Fetching https://us.openfoodfacts.org/20\n",
      "Scraped 100 new product links, 2000 total links. (2.7s)\n",
      "Pickling current scraping progress...\n",
      "Pickled completed_urls.pkl successfully.\n",
      "Pickled product_links.pkl successfully.\n"
     ]
    }
   ],
   "source": [
    "for page_num in range(1,max_scrape_index + 1):\n",
    "    if page_num in completed_urls:\n",
    "        continue\n",
    "    print(f\"Fetching {root_url}{page_num}\")\n",
    "    start_time = time.time()\n",
    "    r = requests.get(f\"{root_url}{page_num}\")\n",
    "    if r.status_code == 200:\n",
    "        page_soup = BeautifulSoup(r.text, 'html.parser')\n",
    "        new_links = [link['href'] for link in page_soup.find_all(\"a\") if is_valid_product_link(link)]\n",
    "        product_links.extend(new_links)\n",
    "        stop_time = time.time()\n",
    "        print(f\"Scraped {len(new_links)} new product links, {len(product_links)} total links. ({stop_time-start_time:.2}s)\")\n",
    "        completed_urls.append(page_num)\n",
    "    else:\n",
    "        print(f\"Failed to fetch {root_url}{page_num}, status code {r.status_code}\")\n",
    "        \n",
    "    if page_num % save_interval == 0:\n",
    "        print(f\"Pickling current scraping progress...\")\n",
    "        with open(\"./data/completed_urls.pkl\", \"wb\") as f:\n",
    "            pickle.dump(completed_urls, f)\n",
    "            print(f\"Pickled completed_urls.pkl successfully.\")\n",
    "        with open(\"./data/product_links.pkl\", \"wb\") as f:\n",
    "            pickle.dump(product_links, f)\n",
    "            print(f\"Pickled product_links.pkl successfully.\")\n",
    "    time.sleep(1)"
   ]
  },
  {
   "cell_type": "code",
   "execution_count": 11,
   "id": "7da39c70",
   "metadata": {},
   "outputs": [
    {
     "data": {
      "text/plain": [
       "2000"
      ]
     },
     "execution_count": 11,
     "metadata": {},
     "output_type": "execute_result"
    }
   ],
   "source": [
    "len(product_links)"
   ]
  },
  {
   "cell_type": "markdown",
   "id": "118deae4",
   "metadata": {},
   "source": [
    "## Individual product ingredients and classification"
   ]
  },
  {
   "cell_type": "code",
   "execution_count": 12,
   "id": "e6535a3e",
   "metadata": {},
   "outputs": [],
   "source": [
    "product_base_url = \"https://us.openfoodfacts.org\""
   ]
  },
  {
   "cell_type": "code",
   "execution_count": 18,
   "id": "c2c1cf42",
   "metadata": {},
   "outputs": [
    {
     "name": "stdout",
     "output_type": "stream",
     "text": [
      "Found previous product link list.\n",
      "Found previous bad link list.\n",
      "\n",
      "So far:\n",
      "2000 product links discovered.\n",
      "116 links are bad.\n",
      "0 items scraped.\n"
     ]
    }
   ],
   "source": [
    "product_links = []\n",
    "item_info = {}\n",
    "bad_links = []\n",
    "\n",
    "if \"product_links.pkl\" in os.listdir(\"./data/\"):\n",
    "    print(f\"Found previous product link list.\")\n",
    "    with open(\"./data/product_links.pkl\", \"rb\") as f:\n",
    "        product_links = pickle.load(f)\n",
    "        \n",
    "if \"bad_links.pkl\" in os.listdir(\"./data/\"):\n",
    "    print(f\"Found previous bad link list.\")\n",
    "    with open(\"./data/bad_links.pkl\", \"rb\") as f:\n",
    "        bad_links = pickle.load(f)\n",
    "\n",
    "        \n",
    "if \"item_info.pkl\" in os.listdir(\"./data/\"):\n",
    "    print(f\"Found previous item info list.\")\n",
    "    with open(\"./data/item_info.pkl\", \"rb\") as f:\n",
    "        item_info = pickle.load(f)\n",
    "        \n",
    "print(f\"\\nSo far:\")\n",
    "print(f\"{len(product_links)} product links discovered.\")\n",
    "print(f\"{len(bad_links)} links are bad.\")\n",
    "print(f\"{len(item_info)} items scraped.\")"
   ]
  },
  {
   "cell_type": "code",
   "execution_count": null,
   "id": "ab694b19",
   "metadata": {
    "scrolled": true
   },
   "outputs": [
    {
     "name": "stdout",
     "output_type": "stream",
     "text": [
      "Fetching https://us.openfoodfacts.org/product/20008017/zumo-de-manzana-solevita\n",
      "Scraped zumo de manzana - solevita - 1,5 l (Vegan), 114 total items. (1.6s)\n",
      "Fetching https://us.openfoodfacts.org/product/3700749302157/soupe-butternut-patate-douce-marcel-bio\n",
      "Bad link! Skipping.\n",
      "Pickled bad_links.pkl successfully.\n",
      "Fetching https://us.openfoodfacts.org/product/4005500087038/delikatess-mayonnaise-thomy\n",
      "Scraped delikatess mayonnaise - thomy - 250ml (Not Vegan), 115 total items. (1.3s)\n",
      "Fetching https://us.openfoodfacts.org/product/5601378850300/tremocos-macaroco\n",
      "Scraped tremoços - maçaroco - 550 gr (Vegan), 116 total items. (1.8s)\n",
      "Fetching https://us.openfoodfacts.org/product/7622210307460/original-philadelphia\n",
      "Scraped original - philadelphia - 180 g (Not Vegan), 117 total items. (1.7s)\n",
      "Fetching https://us.openfoodfacts.org/product/8000500026731/kinder-surprise-3-pack\n",
      "Scraped kinder surprise 3 pack - 3 x 20g (Not Vegan), 118 total items. (1.1s)\n",
      "Pickling current scraping progress...\n",
      "Pickled item_info.pkl successfully.\n",
      "Fetching https://us.openfoodfacts.org/product/0016000275287/cheerios-cereal\n",
      "Bad link! Skipping.\n",
      "Pickled bad_links.pkl successfully.\n",
      "Fetching https://us.openfoodfacts.org/product/0039047001312/triangle-walkers\n",
      "Scraped triangle - walkers - 150g (Not Vegan), 119 total items. (1.5s)\n",
      "Fetching https://us.openfoodfacts.org/product/0898999000022/vita-coco-pure-coconut-water\n",
      "Bad link! Skipping.\n",
      "Pickled bad_links.pkl successfully.\n",
      "Fetching https://us.openfoodfacts.org/product/4000400002693/brunch-paprika-peperoni\n",
      "Scraped brunch paprika & peperoni - 200g (Not Vegan), 120 total items. (1.1s)\n",
      "Pickling current scraping progress...\n",
      "Pickled item_info.pkl successfully.\n",
      "Fetching https://us.openfoodfacts.org/product/5900012000232/rapeseed-oil-kujawski\n",
      "Scraped rapeseed oil - kujawski - 1 l (Vegan), 121 total items. (1.4s)\n",
      "Fetching https://us.openfoodfacts.org/product/8410770100022/trevijano-mushroom-risotto\n",
      "Scraped trevijano, mushroom risotto - 280 g (Vegan), 122 total items. (1.9s)\n",
      "Fetching https://us.openfoodfacts.org/product/8711200478187/mayonnaise-hellmann-s\n",
      "Scraped mayonnaise - hellmann‘s - 250ml (Not Vegan), 123 total items. (2.0s)\n",
      "Fetching https://us.openfoodfacts.org/product/0024000011859/pineapple-slices-in-100-juice-del-monte\n",
      "Scraped pineapple slices in 100% juice - del monte - 565g (Vegan), 124 total items. (2.1s)\n",
      "Fetching https://us.openfoodfacts.org/product/3250391746170/mais-doux-en-grains-saint-eloi\n",
      "Scraped mais doux en grains - saint eloi - 340 g (égoutté : 230 g) 370 ml (Vegan), 125 total items. (1.4s)\n",
      "Fetching https://us.openfoodfacts.org/product/3564700443194/salade-la-meridionale-riz-et-thon-marque-repere\n",
      "Scraped salade la meridionale riz et thon - marque repère - 250 g (Not Vegan), 126 total items. (1.8s)\n",
      "Fetching https://us.openfoodfacts.org/product/3608580890973/le-delice-noisette-au-lait-d-amande-andros\n",
      "Bad link! Skipping.\n",
      "Pickled bad_links.pkl successfully.\n",
      "Pickling current scraping progress...\n",
      "Pickled item_info.pkl successfully.\n",
      "Fetching https://us.openfoodfacts.org/product/4712905016067/japanese-style-green-tea-mochi-yuki-love\n",
      "Scraped japanese style green tea mochi - yuki & love - 210 g - 6 x 35 g (Not Vegan), 127 total items. (1.5s)\n",
      "Fetching https://us.openfoodfacts.org/product/5601378970701/piri-piri-hot-sauce-macarico\n",
      "Scraped piri piri hot sauce - maçarico - 100 g (100 ml) (Vegan), 128 total items. (1.5s)\n",
      "Fetching https://us.openfoodfacts.org/product/9556041780629/pate-de-curry-rouge-ayam\n",
      "Bad link! Skipping.\n",
      "Pickled bad_links.pkl successfully.\n",
      "Pickling current scraping progress...\n",
      "Pickled item_info.pkl successfully.\n",
      "Fetching https://us.openfoodfacts.org/product/4337185683688/light-ketchup-k-classic\n",
      "Scraped light ketchup - k-classic - 500 ml, 534 g (Vegan), 129 total items. (1.0s)\n",
      "Fetching https://us.openfoodfacts.org/product/0011210000018/tabasco-pepper-sauce\n",
      "Scraped tabasco pepper sauce - 59 ml (Vegan), 130 total items. (1.9s)\n",
      "Fetching https://us.openfoodfacts.org/product/20443559/caper-berries-in-brine-italiamo\n",
      "Bad link! Skipping.\n",
      "Pickled bad_links.pkl successfully.\n",
      "Fetching https://us.openfoodfacts.org/product/20548476/gelatelli-lemon-premium-sorbet\n",
      "Scraped gelatelli - lemon premium sorbet - 665 g (1 l) (Vegan), 131 total items. (1.7s)\n",
      "Fetching https://us.openfoodfacts.org/product/20634308/besciamella-italiamo\n",
      "Scraped besciamella - italiamo - 500 ml (Not Vegan), 132 total items. (1.8s)\n",
      "Pickling current scraping progress...\n",
      "Pickled item_info.pkl successfully.\n",
      "Fetching https://us.openfoodfacts.org/product/4011800176211/samt-himbeere-schwartau\n",
      "Scraped samt himbeere - schwartau - 270 g (Vegan), 133 total items. (2.3s)\n",
      "Fetching https://us.openfoodfacts.org/product/5400141298604/gouda-jeune-en-tranches-everyday\n",
      "Scraped gouda  jeune en tranches - everyday - 500 g (Not Vegan), 134 total items. (1.1s)\n",
      "Fetching https://us.openfoodfacts.org/product/20287399/cerises-amarena-italiamo\n",
      "Scraped cerises amarena - italiamo - 450 g e / 235 g égoutté (Not Vegan), 135 total items. (0.96s)\n",
      "Fetching https://us.openfoodfacts.org/product/3176582026909/4-mini-a-dorer-coeur-de-lion\n",
      "Scraped 4 mini à dorer - coeur de lion - 90 g (Not Vegan), 136 total items. (0.9s)\n",
      "Fetching https://us.openfoodfacts.org/product/3250391084753/asperges-vertes-pic-nic-saint-eloi\n",
      "Scraped asperges vertes pic-nic - saint eloi - 190 g (Vegan), 137 total items. (1.0s)\n",
      "Fetching https://us.openfoodfacts.org/product/3564700633656/mayonnaise-a-la-moutarde-de-dijon-rustica\n",
      "Scraped mayonnaise à la moutarde de dijon - rustica - 235 g (Not Vegan), 138 total items. (1.3s)\n",
      "Fetching https://us.openfoodfacts.org/product/4388840216802/ja-deutsche-markenbutter-mild-gesauert\n",
      "Scraped ja! deutsche markenbutter mild gesäuert - 250 g (Not Vegan), 139 total items. (1.5s)\n",
      "Pickling current scraping progress...\n",
      "Pickled item_info.pkl successfully.\n",
      "Fetching https://us.openfoodfacts.org/product/7503008669055/alimento-liquido-de-coco-a-de-coco\n",
      "Bad link! Skipping.\n",
      "Pickled bad_links.pkl successfully.\n",
      "Fetching https://us.openfoodfacts.org/product/0096619483556/organic-greek-yogurt-kirkland-signature\n",
      "Bad link! Skipping.\n",
      "Pickled bad_links.pkl successfully.\n",
      "Fetching https://us.openfoodfacts.org/product/4337185564321/sonnenblumenmagerine-k-classic\n",
      "Scraped sonnenblumenmagerine - k-classic - 500g (Vegan), 140 total items. (1.2s)\n",
      "Pickling current scraping progress...\n",
      "Pickled item_info.pkl successfully.\n",
      "Fetching https://us.openfoodfacts.org/product/0085696608044/silken-tofu-morinaga\n",
      "Scraped silken tofu - morinaga - 349 g (Vegan), 141 total items. (1.7s)\n",
      "Fetching https://us.openfoodfacts.org/product/01210806/purified-drinking-water-aquafina\n",
      "Bad link! Skipping.\n",
      "Pickled bad_links.pkl successfully.\n",
      "Fetching https://us.openfoodfacts.org/product/3162900032516/bio-pate-de-curry-au-gingembre-albert-menes\n",
      "Bad link! Skipping.\n",
      "Pickled bad_links.pkl successfully.\n",
      "Pickling current scraping progress...\n",
      "Pickled item_info.pkl successfully.\n",
      "Fetching https://us.openfoodfacts.org/product/3199241000300/echire-beurre-de-baratte-d-excellence\n",
      "Bad link! Skipping.\n",
      "Pickled bad_links.pkl successfully.\n",
      "Fetching https://us.openfoodfacts.org/product/3556740114035/orange-mango-passion-fruit-100-fruit-premium-smoothie-nu\n",
      "Bad link! Skipping.\n",
      "Pickled bad_links.pkl successfully.\n",
      "Fetching https://us.openfoodfacts.org/product/3596710330645/mmm-huile-de-sesame-auchan\n",
      "Scraped mmm huile de sésame - auchan - 250 ml (Vegan), 142 total items. (1.4s)\n",
      "Fetching https://us.openfoodfacts.org/product/4013752019547/der-markenzwieback-brandt\n",
      "Scraped der markenzwieback - brandt - 338 g (Not Vegan), 143 total items. (1.2s)\n",
      "Pickling current scraping progress...\n",
      "Pickled item_info.pkl successfully.\n",
      "Fetching https://us.openfoodfacts.org/product/6191509906109/tunisian-olive-oil-terra-delyssa\n",
      "Scraped tunisian olive oil - terra delyssa - 1500 ml (Vegan), 144 total items. (1.4s)\n",
      "Fetching https://us.openfoodfacts.org/product/0037600110723/skippy-super-chunk-peanut-butter-super-chunk\n",
      "Bad link! Skipping.\n",
      "Pickled bad_links.pkl successfully.\n",
      "Fetching https://us.openfoodfacts.org/product/0812475012255/allure-alo\n",
      "Scraped allure - alo - 500 ml (Vegan), 145 total items. (1.6s)\n",
      "Fetching https://us.openfoodfacts.org/product/20548490/raspberry-sorbet-gelatelli\n",
      "Scraped raspberry sorbet - gelatelli - 1 l, 670 g (Vegan), 146 total items. (1.3s)\n",
      "Pickling current scraping progress...\n",
      "Pickled item_info.pkl successfully.\n"
     ]
    },
    {
     "name": "stdout",
     "output_type": "stream",
     "text": [
      "Fetching https://us.openfoodfacts.org/product/3564700282793/torsades-cuisson-rapide-turini\n",
      "Scraped torsades cuisson rapide - turini - 500 g (Vegan), 147 total items. (1.3s)\n",
      "Fetching https://us.openfoodfacts.org/product/5400141234800/sirop-d-agave-bio-boni\n",
      "Bad link! Skipping.\n",
      "Pickled bad_links.pkl successfully.\n",
      "Fetching https://us.openfoodfacts.org/product/4388860638110/erdbeer-banane-smoothie-rewe-to-go\n",
      "Bad link! Skipping.\n",
      "Pickled bad_links.pkl successfully.\n",
      "Fetching https://us.openfoodfacts.org/product/0012345678905/sphere-plaisir\n",
      "Scraped sphère plaisir - 1 (Not Vegan), 148 total items. (1.3s)\n",
      "Fetching https://us.openfoodfacts.org/product/0024463061095/sriracha-chili-sauce-huy-fong\n",
      "Bad link! Skipping.\n",
      "Pickled bad_links.pkl successfully.\n",
      "Pickling current scraping progress...\n",
      "Pickled item_info.pkl successfully.\n",
      "Fetching https://us.openfoodfacts.org/product/27029114/delinut-light\n",
      "Scraped delinut light - 200 g (Not Vegan), 149 total items. (1.2s)\n",
      "Fetching https://us.openfoodfacts.org/product/3178530402353/mini-madeleines-st-michel\n",
      "Scraped mini madeleines - st michel - 175 g (Not Vegan), 150 total items. (1.7s)\n",
      "Fetching https://us.openfoodfacts.org/product/7622210124401/prince-choco-biscuits-lu\n",
      "Scraped prince choco biscuits - lu - 28,5 g (Not Vegan), 151 total items. (1.3s)\n",
      "Fetching https://us.openfoodfacts.org/product/03424005/hershey-s-milk-chocolate\n",
      "Scraped hershey's milk chocolate - 1.55 oz (43 g) (Not Vegan), 152 total items. (1.7s)\n",
      "Pickling current scraping progress...\n",
      "Pickled item_info.pkl successfully.\n",
      "Fetching https://us.openfoodfacts.org/product/0748927052404/gold-standard-100-whey-optimum-nutrition\n",
      "Scraped gold standard 100% whey - optimum nutrition (Not Vegan), 153 total items. (1.9s)\n",
      "Fetching https://us.openfoodfacts.org/product/20004002/mandarinen-landfein\n",
      "Scraped mandarinen - landfein - 312g (Not Vegan), 154 total items. (1.5s)\n",
      "Fetching https://us.openfoodfacts.org/product/8410109000078/chocolate-con-leche-con-almendras-enteras-valor\n",
      "Scraped chocolate con leche con almendras enteras - valor - 250 g (Not Vegan), 155 total items. (1.4s)\n",
      "Fetching https://us.openfoodfacts.org/product/3523230048330/brasse-framboise-au-lait-de-chevre-soignon\n",
      "Scraped brassé framboise au lait de chèvre - soignon (Not Vegan), 156 total items. (1.7s)\n",
      "Fetching https://us.openfoodfacts.org/product/20611781/persian-blue-salt-deluxe\n",
      "Scraped persian blue salt - deluxe - 180 g (Vegan), 157 total items. (1.8s)\n",
      "Fetching https://us.openfoodfacts.org/product/3265479181002/huile-d-olive-vierge-extra-la-verte-puissante-offre-saisonniere-puget\n",
      "Bad link! Skipping.\n",
      "Pickled bad_links.pkl successfully.\n",
      "Fetching https://us.openfoodfacts.org/product/7898024394181/nutella-ferrero\n",
      "Scraped nutella - ferrero - 350 g (Not Vegan), 158 total items. (1.3s)\n",
      "Fetching https://us.openfoodfacts.org/product/0850004207017/the-beyond-burger-beyond-meat\n",
      "Scraped the beyond burger - beyond meat - 4oz, 113g (Vegan), 159 total items. (2.0s)\n",
      "Pickling current scraping progress...\n",
      "Pickled item_info.pkl successfully.\n",
      "Fetching https://us.openfoodfacts.org/product/8711200365548/delikatess-bruhe-knorr\n",
      "Scraped delikatess brühe - knorr - 7.2l (Vegan), 160 total items. (0.92s)\n",
      "Fetching https://us.openfoodfacts.org/product/0024463061163/sriracha-chili-sauce-cock-brand\n",
      "Bad link! Skipping.\n",
      "Pickled bad_links.pkl successfully.\n",
      "Fetching https://us.openfoodfacts.org/product/0072250037129/100-whole-wheat-bread-100-whole-wheat-nature-s-own\n",
      "Bad link! Skipping.\n",
      "Pickled bad_links.pkl successfully.\n",
      "Fetching https://us.openfoodfacts.org/product/11117780/dark-chocolate-covered-pretzels-with-peppermint-pieces-peppermint-nestle\n",
      "Scraped dark chocolate covered pretzels with peppermint pieces, peppermint - nestle - 21g (Not Vegan), 161 total items. (0.91s)\n",
      "Fetching https://us.openfoodfacts.org/product/20378325/pommes-duchesse-deluxe\n",
      "Scraped pommes duchesse - deluxe - 600 g (Not Vegan), 162 total items. (0.9s)\n",
      "Pickling current scraping progress...\n",
      "Pickled item_info.pkl successfully.\n",
      "Fetching https://us.openfoodfacts.org/product/5900085011180/maggi\n",
      "Bad link! Skipping.\n",
      "Pickled bad_links.pkl successfully.\n",
      "Fetching https://us.openfoodfacts.org/product/7622210496607/dark-chocolate-large-bar-toblerone\n",
      "Scraped dark chocolate large bar - toblerone - 360 g (Not Vegan), 163 total items. (0.93s)\n",
      "Fetching https://us.openfoodfacts.org/product/0658480001958/salmas-horneadas-sanissimo\n",
      "Bad link! Skipping.\n",
      "Pickled bad_links.pkl successfully.\n",
      "Fetching https://us.openfoodfacts.org/product/0016000123991/lucky-charms-general-mills\n",
      "Scraped lucky charms - general mills - 297 g (Not Vegan), 164 total items. (1.9s)\n",
      "Pickling current scraping progress...\n",
      "Pickled item_info.pkl successfully.\n",
      "Fetching https://us.openfoodfacts.org/product/0037600110754/skippy-creamy-peanut-butter-creamy\n",
      "Bad link! Skipping.\n",
      "Pickled bad_links.pkl successfully.\n",
      "Fetching https://us.openfoodfacts.org/product/3178530407938/french-sponge-cakes-with-chocolate-chips-mini-madeleines-french-sponge-cakes-with-chocolate-chips-st-michel\n",
      "Scraped french sponge cakes with chocolate chips mini madeleines, french sponge cakes with chocolate chips - st michel - 175 g (Not Vegan), 165 total items. (1.8s)\n",
      "Fetching https://us.openfoodfacts.org/product/0123456789012/total-0-uberti\n",
      "Scraped total 0% - uberti - 1pcs (Vegan), 166 total items. (1.6s)\n",
      "Pickling current scraping progress...\n",
      "Pickled item_info.pkl successfully.\n",
      "Fetching https://us.openfoodfacts.org/product/5010024101381/bisto-gravy\n",
      "Scraped bisto gravy - 170g (Not Vegan), 167 total items. (1.7s)\n",
      "Fetching https://us.openfoodfacts.org/product/80050094/kinder-maxi\n",
      "Scraped kinder maxi - 21 g (Not Vegan), 168 total items. (1.6s)\n",
      "Fetching https://us.openfoodfacts.org/product/8850389111352/mogu-mogu-melon-et-nata-coco-sappe-public-company-limited\n",
      "Bad link! Skipping.\n",
      "Pickled bad_links.pkl successfully.\n",
      "Pickling current scraping progress...\n",
      "Pickled item_info.pkl successfully.\n",
      "Fetching https://us.openfoodfacts.org/product/3664346304863/terry-s-chocolate-orange\n"
     ]
    }
   ],
   "source": [
    "counter = 0\n",
    "for link in product_links:\n",
    "    counter += 1\n",
    "    if link in item_info or link in bad_links:\n",
    "        continue\n",
    "    print(f\"Fetching {product_base_url}{link}\")\n",
    "    start_time = time.time()\n",
    "    r = requests.get(f\"{product_base_url}{link}\")\n",
    "    if r.status_code == 200:\n",
    "        page_soup = BeautifulSoup(r.text, 'html.parser')\n",
    "        try:\n",
    "            new_data = {\n",
    "                \"name\": page_soup.title.text.lower(),\n",
    "                \"nutriscore\": page_soup.find(\"tr\", id=\"nutriment_nutriscore_tr\").find(\"td\", class_=\"nutriment_value\").text.strip(),\n",
    "                \"ingredients\": page_soup.find(\"div\", id=\"ingredients_list\").text,\n",
    "                \"is_vegan\": \"Vegan\" in [child.text.strip() for child in page_soup.find(\"p\", id=\"ingredients_analysis\").find_all(\"span\", class_=\"alert\")]\n",
    "            }\n",
    "            \n",
    "            if len([child.text.strip() for child in page_soup.find(\"p\", id=\"ingredients_analysis\").find_all(\"span\", class_=\"alert\")]) == 0:\n",
    "                raise AttributeError\n",
    "            \n",
    "            item_info[link] = new_data\n",
    "            is_vegan_formatted = \"Vegan\" if new_data[\"is_vegan\"] else \"Not Vegan\"\n",
    "            stop_time = time.time()\n",
    "            print(f\"Scraped {new_data['name']} ({is_vegan_formatted}), {len(item_info)} total items. ({stop_time-start_time:.2}s)\")\n",
    "        except AttributeError:\n",
    "            print(f\"Bad link! Skipping.\")\n",
    "            bad_links.append(link)\n",
    "            with open(\"./data/bad_links.pkl\", \"wb\") as f:\n",
    "                pickle.dump(bad_links, f)\n",
    "                print(f\"Pickled bad_links.pkl successfully.\")\n",
    "\n",
    "    else:\n",
    "        print(f\"Failed to fetch {product_base_url}{link}, status code {r.status_code}\")\n",
    "        \n",
    "    if counter % save_interval == 0:\n",
    "        print(f\"Pickling current scraping progress...\")\n",
    "        with open(\"./data/item_info.pkl\", \"wb\") as f:\n",
    "            pickle.dump(item_info, f)\n",
    "            print(f\"Pickled item_info.pkl successfully.\")\n",
    "    time.sleep(1)"
   ]
  },
  {
   "cell_type": "code",
   "execution_count": null,
   "id": "f7a1880f",
   "metadata": {},
   "outputs": [],
   "source": [
    "print(f\"{100*(np.sum([item_info[item]['is_vegan'] for item in item_info])/len(item_info)):.2f}% of {len(item_info)} items are vegan\")"
   ]
  }
 ],
 "metadata": {
  "kernelspec": {
   "display_name": "Python 3 (ipykernel)",
   "language": "python",
   "name": "python3"
  },
  "language_info": {
   "codemirror_mode": {
    "name": "ipython",
    "version": 3
   },
   "file_extension": ".py",
   "mimetype": "text/x-python",
   "name": "python",
   "nbconvert_exporter": "python",
   "pygments_lexer": "ipython3",
   "version": "3.8.12"
  }
 },
 "nbformat": 4,
 "nbformat_minor": 5
}
